{
 "cells": [
  {
   "cell_type": "code",
   "execution_count": 31,
   "id": "eda6d293",
   "metadata": {},
   "outputs": [],
   "source": [
    "import json\n",
    "import random\n",
    "\n",
    "def generate_alchemic_compounds(num_compounds, num_properties):\n",
    "    compounds = []\n",
    "    states = [\"solid\", \"liquid\", \"gas\"]\n",
    "    colors = [\"red\", \"orange\", \"yellow\", \"green\", \"blue\", \"indigo\", \"violet\"]\n",
    "    \n",
    "    for i in range(num_compounds):\n",
    "        state = random.choice(states)\n",
    "        color = random.choice(colors)\n",
    "        property_id = random.randint(0, num_properties - 1)\n",
    "        value = random.randint(1, 10)\n",
    "        compound = {'id': i, 'state': state, 'color': color, 'property_id': property_id, 'value': value}\n",
    "        compounds.append(compound)\n",
    "\n",
    "    with open(\"compounds.json\", \"w\") as outfile:\n",
    "        json.dump(compounds, outfile)\n",
    "    \n",
    "    return compounds\n",
    "\n",
    "def generate_alchemical_minerals(num_minerals, compounds_data):\n",
    "    minerals = []\n",
    "    structures = [\"cubic crystal\", \"tetragonal crystal\", \"hexagonal crystal\", \"rhombohedral crystal\", \"orthorhombic crystal\", \"monoclinic crystal\", \"triclinic crystal\"]\n",
    "\n",
    "    for i in range(num_minerals):\n",
    "        num_compounds_in_mineral = random.randint(1, 5)\n",
    "        compounds = tuple(random.sample(compounds_data, num_compounds_in_mineral))\n",
    "        total_value = sum(compound['value'] for compound in compounds)\n",
    "        frequency = 10 - (total_value // num_compounds_in_mineral)\n",
    "        color = random.choice([\"red\", \"orange\", \"yellow\", \"green\", \"blue\", \"indigo\", \"violet\"])\n",
    "        structure = random.choice(structures)\n",
    "        mineral = {'id': i, 'compounds': [c['id'] for c in compounds], 'frequency': frequency, 'color': color, 'structure': structure}\n",
    "        minerals.append(mineral)\n",
    "\n",
    "    with open(\"minerals.json\", \"w\") as outfile:\n",
    "        json.dump(minerals, outfile)\n",
    "    return minerals\n",
    "\n",
    "def generate_alchemic_reactions(num_reactions, num_compounds, num_conditions):\n",
    "    reactions = []\n",
    "\n",
    "    for i in range(num_reactions):\n",
    "        num_precursors = random.choices([1, 2, 3, 4, 5], weights=[5, 40, 25, 20, 10], k=1)[0]\n",
    "        num_products = random.choices([1, 2, 3], weights=[70, 20, 10], k=1)[0]\n",
    "        num_requirements = random.choices([1, 2, 3, 4, 5], weights=[20, 45, 20, 10, 5], k=1)[0]\n",
    "        precursors = tuple(random.sample(range(num_compounds), num_precursors))\n",
    "        conditions = tuple(random.sample(range(num_conditions), num_requirements))\n",
    "        products = tuple(random.sample(range(num_compounds), num_products))\n",
    "        reaction = {'precursors': precursors, 'conditions': conditions, 'products': products}\n",
    "        reactions.append(reaction)\n",
    "\n",
    "    with open(\"reactions.json\", \"w\") as outfile:\n",
    "        json.dump(reactions, outfile)\n",
    "\n",
    "    return reactions\n",
    "\n",
    "import json\n",
    "\n",
    "def write_alchemy_encyclopedia(compounds_file, minerals_file, magical_properties_file, reaction_conditions_file, reactions_file, output_file):\n",
    "    with open(compounds_file, \"r\") as infile:\n",
    "        compounds_data = json.load(infile)\n",
    "    \n",
    "    with open(minerals_file, \"r\") as infile:\n",
    "        minerals_data = json.load(infile)\n",
    "\n",
    "    with open(magical_properties_file, \"r\") as infile:\n",
    "        magical_properties_data = json.load(infile)\n",
    "\n",
    "    with open(reaction_conditions_file, \"r\") as infile:\n",
    "        reaction_conditions_data = json.load(infile)\n",
    "    \n",
    "    with open(reactions_file, 'r') as infile:\n",
    "        reactions_data = json.load(infile)\n",
    "    \n",
    "    with open(output_file, \"w\") as outfile:\n",
    "        outfile.write(\"=== Alchemy Encyclopedia ===\\n\\n\")\n",
    "        outfile.write(\"A whimsical guide to the mystical world of alchemy.\\n\\n\")\n",
    "\n",
    "        outfile.write(\"\\n--- Compounds ---\\n\\n\")\n",
    "        for compound in compounds_data:\n",
    "            magical_property = magical_properties_data[compound['property_id']]\n",
    "            outfile.write(f\"Compound {compound['id']}: {compound['color'].capitalize()} {compound['state']}\\n\")\n",
    "            outfile.write(f\" Magical Properties: {', '.join(magical_property['effects'])} {', '.join(magical_property['conditions'])}\\n\")\n",
    "            outfile.write(f\" Value: {compound['value']}\\n\\n\")\n",
    "        \n",
    "        outfile.write(\"\\n--- Minerals ---\\n\\n\")\n",
    "        for mineral in minerals_data:\n",
    "            compound_ids = mineral['compounds']\n",
    "            outfile.write(f\"Mineral {mineral['id']}: {mineral['color'].capitalize()} {mineral['structure']}\\n\")\n",
    "            outfile.write(f\" Compounds: {', '.join(f'Compound {compound_id}' for compound_id in compound_ids)}\\n\")\n",
    "            outfile.write(f\" Frequency: {mineral['frequency']}\\n\\n\")\n",
    "\n",
    "        outfile.write(\"\\n--- Reactions ---\\n\\n\")\n",
    "\n",
    "        for reaction in reactions_data:\n",
    "            print(reaction)\n",
    "            precursors = ', '.join(f\"Compound {compound_id}\" for compound_id in reaction['precursors'])\n",
    "            products = ', '.join(f\"Compound {compound_id}\" for compound_id in reaction['products'])\n",
    "            conditions = ', '.join(reaction_conditions_data[cond_id]['description'] for cond_id in reaction['conditions'])\n",
    "            outfile.write(f\"Reaction: {precursors} -> {products}\\n\")\n",
    "            outfile.write(f\" Conditions: {conditions}\\n\\n\")\n",
    "\n",
    "\n"
   ]
  },
  {
   "cell_type": "code",
   "execution_count": 19,
   "id": "d123b626",
   "metadata": {},
   "outputs": [],
   "source": [
    "compounds = generate_alchemic_compounds(20, 10)\n",
    "reactions = generate_alchemic_reactions(30, 20, 10)\n",
    "minerals = generate_alchemical_minerals(15, compounds)"
   ]
  },
  {
   "cell_type": "code",
   "execution_count": 20,
   "id": "d542f17e",
   "metadata": {},
   "outputs": [
    {
     "data": {
      "text/plain": [
       "[{'precursors': (9, 15, 10), 'conditions': (8, 2), 'products': (0,)},\n",
       " {'precursors': (9, 12, 13), 'conditions': (0, 4), 'products': (2,)},\n",
       " {'precursors': (17, 16, 15, 13), 'conditions': (8, 6, 0), 'products': (8,)},\n",
       " {'precursors': (3, 15), 'conditions': (2, 6, 1), 'products': (13,)},\n",
       " {'precursors': (9, 16, 7, 12, 19),\n",
       "  'conditions': (9, 3, 1),\n",
       "  'products': (17, 4, 2)},\n",
       " {'precursors': (17, 6, 7), 'conditions': (2, 0, 5), 'products': (2, 9)},\n",
       " {'precursors': (4, 7, 11), 'conditions': (9, 6), 'products': (1, 9)},\n",
       " {'precursors': (3, 18), 'conditions': (3, 4), 'products': (8,)},\n",
       " {'precursors': (16, 18), 'conditions': (3, 6), 'products': (13, 19)},\n",
       " {'precursors': (2, 15), 'conditions': (9, 6), 'products': (11,)},\n",
       " {'precursors': (13, 11, 2, 9, 15), 'conditions': (8, 7, 0), 'products': (3,)},\n",
       " {'precursors': (13, 4, 17), 'conditions': (8,), 'products': (16,)},\n",
       " {'precursors': (4, 18), 'conditions': (6, 2), 'products': (8,)},\n",
       " {'precursors': (11, 0, 5), 'conditions': (0, 6, 7), 'products': (9,)},\n",
       " {'precursors': (6, 7, 13, 3, 18), 'conditions': (4, 2, 9), 'products': (17,)},\n",
       " {'precursors': (0, 6), 'conditions': (7, 9, 4, 3), 'products': (9,)},\n",
       " {'precursors': (3, 4), 'conditions': (6,), 'products': (15, 0, 12)},\n",
       " {'precursors': (19, 14, 16), 'conditions': (0,), 'products': (19, 11)},\n",
       " {'precursors': (4, 2, 11, 16),\n",
       "  'conditions': (1, 7, 0),\n",
       "  'products': (6, 15, 11)},\n",
       " {'precursors': (6, 19, 1), 'conditions': (7,), 'products': (5, 17, 3)},\n",
       " {'precursors': (12, 4, 6, 10), 'conditions': (0, 9), 'products': (1,)},\n",
       " {'precursors': (1, 14), 'conditions': (1, 9), 'products': (14,)},\n",
       " {'precursors': (2, 17), 'conditions': (8, 9), 'products': (15,)},\n",
       " {'precursors': (12, 10), 'conditions': (0,), 'products': (10,)},\n",
       " {'precursors': (12, 16, 18, 11, 19), 'conditions': (7,), 'products': (0, 12)},\n",
       " {'precursors': (2, 15), 'conditions': (4, 0, 6), 'products': (18,)},\n",
       " {'precursors': (13, 1, 10), 'conditions': (8, 6), 'products': (9,)},\n",
       " {'precursors': (2, 4), 'conditions': (4, 8), 'products': (15, 10)},\n",
       " {'precursors': (15, 2, 14, 4), 'conditions': (1, 7), 'products': (7,)},\n",
       " {'precursors': (4, 1), 'conditions': (5, 4, 7), 'products': (3,)}]"
      ]
     },
     "execution_count": 20,
     "metadata": {},
     "output_type": "execute_result"
    }
   ],
   "source": [
    "reactions"
   ]
  },
  {
   "cell_type": "code",
   "execution_count": 21,
   "id": "e0a56654",
   "metadata": {},
   "outputs": [
    {
     "ename": "FileNotFoundError",
     "evalue": "[Errno 2] No such file or directory: 'reaction_conditions.json'",
     "output_type": "error",
     "traceback": [
      "\u001b[0;31m---------------------------------------------------------------------------\u001b[0m",
      "\u001b[0;31mFileNotFoundError\u001b[0m                         Traceback (most recent call last)",
      "\u001b[0;32m/tmp/ipykernel_85092/409191443.py\u001b[0m in \u001b[0;36m<module>\u001b[0;34m\u001b[0m\n\u001b[1;32m     41\u001b[0m                 \u001b[0moutfile\u001b[0m\u001b[0;34m.\u001b[0m\u001b[0mwrite\u001b[0m\u001b[0;34m(\u001b[0m\u001b[0;34mf\" Conditions: {conditions}\\n\\n\"\u001b[0m\u001b[0;34m)\u001b[0m\u001b[0;34m\u001b[0m\u001b[0;34m\u001b[0m\u001b[0m\n\u001b[1;32m     42\u001b[0m \u001b[0;34m\u001b[0m\u001b[0m\n\u001b[0;32m---> 43\u001b[0;31m \u001b[0mwrite_alchemy_encyclopedia\u001b[0m\u001b[0;34m(\u001b[0m\u001b[0;34m\"compounds.json\"\u001b[0m\u001b[0;34m,\u001b[0m \u001b[0;34m\"minerals.json\"\u001b[0m\u001b[0;34m,\u001b[0m \u001b[0;34m\"magical_properties.json\"\u001b[0m\u001b[0;34m,\u001b[0m \u001b[0;34m\"reaction_conditions.json\"\u001b[0m\u001b[0;34m,\u001b[0m \u001b[0;34m\"alchemy_encyclopedia.txt\"\u001b[0m\u001b[0;34m)\u001b[0m\u001b[0;34m\u001b[0m\u001b[0;34m\u001b[0m\u001b[0m\n\u001b[0m",
      "\u001b[0;32m/tmp/ipykernel_85092/409191443.py\u001b[0m in \u001b[0;36mwrite_alchemy_encyclopedia\u001b[0;34m(compounds_file, minerals_file, magical_properties_file, reaction_conditions_file, output_file)\u001b[0m\n\u001b[1;32m     11\u001b[0m         \u001b[0mmagical_properties_data\u001b[0m \u001b[0;34m=\u001b[0m \u001b[0mjson\u001b[0m\u001b[0;34m.\u001b[0m\u001b[0mload\u001b[0m\u001b[0;34m(\u001b[0m\u001b[0minfile\u001b[0m\u001b[0;34m)\u001b[0m\u001b[0;34m\u001b[0m\u001b[0;34m\u001b[0m\u001b[0m\n\u001b[1;32m     12\u001b[0m \u001b[0;34m\u001b[0m\u001b[0m\n\u001b[0;32m---> 13\u001b[0;31m     \u001b[0;32mwith\u001b[0m \u001b[0mopen\u001b[0m\u001b[0;34m(\u001b[0m\u001b[0mreaction_conditions_file\u001b[0m\u001b[0;34m,\u001b[0m \u001b[0;34m\"r\"\u001b[0m\u001b[0;34m)\u001b[0m \u001b[0;32mas\u001b[0m \u001b[0minfile\u001b[0m\u001b[0;34m:\u001b[0m\u001b[0;34m\u001b[0m\u001b[0;34m\u001b[0m\u001b[0m\n\u001b[0m\u001b[1;32m     14\u001b[0m         \u001b[0mreaction_conditions_data\u001b[0m \u001b[0;34m=\u001b[0m \u001b[0mjson\u001b[0m\u001b[0;34m.\u001b[0m\u001b[0mload\u001b[0m\u001b[0;34m(\u001b[0m\u001b[0minfile\u001b[0m\u001b[0;34m)\u001b[0m\u001b[0;34m\u001b[0m\u001b[0;34m\u001b[0m\u001b[0m\n\u001b[1;32m     15\u001b[0m \u001b[0;34m\u001b[0m\u001b[0m\n",
      "\u001b[0;31mFileNotFoundError\u001b[0m: [Errno 2] No such file or directory: 'reaction_conditions.json'"
     ]
    }
   ],
   "source": []
  },
  {
   "cell_type": "code",
   "execution_count": 33,
   "id": "5c107853",
   "metadata": {},
   "outputs": [
    {
     "name": "stdout",
     "output_type": "stream",
     "text": [
      "{'precursors': [9, 15, 10], 'conditions': [8, 2], 'products': [0]}\n",
      "{'precursors': [9, 12, 13], 'conditions': [0, 4], 'products': [2]}\n",
      "{'precursors': [17, 16, 15, 13], 'conditions': [8, 6, 0], 'products': [8]}\n",
      "{'precursors': [3, 15], 'conditions': [2, 6, 1], 'products': [13]}\n",
      "{'precursors': [9, 16, 7, 12, 19], 'conditions': [9, 3, 1], 'products': [17, 4, 2]}\n",
      "{'precursors': [17, 6, 7], 'conditions': [2, 0, 5], 'products': [2, 9]}\n",
      "{'precursors': [4, 7, 11], 'conditions': [9, 6], 'products': [1, 9]}\n",
      "{'precursors': [3, 18], 'conditions': [3, 4], 'products': [8]}\n",
      "{'precursors': [16, 18], 'conditions': [3, 6], 'products': [13, 19]}\n",
      "{'precursors': [2, 15], 'conditions': [9, 6], 'products': [11]}\n",
      "{'precursors': [13, 11, 2, 9, 15], 'conditions': [8, 7, 0], 'products': [3]}\n",
      "{'precursors': [13, 4, 17], 'conditions': [8], 'products': [16]}\n",
      "{'precursors': [4, 18], 'conditions': [6, 2], 'products': [8]}\n",
      "{'precursors': [11, 0, 5], 'conditions': [0, 6, 7], 'products': [9]}\n",
      "{'precursors': [6, 7, 13, 3, 18], 'conditions': [4, 2, 9], 'products': [17]}\n",
      "{'precursors': [0, 6], 'conditions': [7, 9, 4, 3], 'products': [9]}\n",
      "{'precursors': [3, 4], 'conditions': [6], 'products': [15, 0, 12]}\n",
      "{'precursors': [19, 14, 16], 'conditions': [0], 'products': [19, 11]}\n",
      "{'precursors': [4, 2, 11, 16], 'conditions': [1, 7, 0], 'products': [6, 15, 11]}\n",
      "{'precursors': [6, 19, 1], 'conditions': [7], 'products': [5, 17, 3]}\n",
      "{'precursors': [12, 4, 6, 10], 'conditions': [0, 9], 'products': [1]}\n",
      "{'precursors': [1, 14], 'conditions': [1, 9], 'products': [14]}\n",
      "{'precursors': [2, 17], 'conditions': [8, 9], 'products': [15]}\n",
      "{'precursors': [12, 10], 'conditions': [0], 'products': [10]}\n",
      "{'precursors': [12, 16, 18, 11, 19], 'conditions': [7], 'products': [0, 12]}\n",
      "{'precursors': [2, 15], 'conditions': [4, 0, 6], 'products': [18]}\n",
      "{'precursors': [13, 1, 10], 'conditions': [8, 6], 'products': [9]}\n",
      "{'precursors': [2, 4], 'conditions': [4, 8], 'products': [15, 10]}\n",
      "{'precursors': [15, 2, 14, 4], 'conditions': [1, 7], 'products': [7]}\n",
      "{'precursors': [4, 1], 'conditions': [5, 4, 7], 'products': [3]}\n"
     ]
    }
   ],
   "source": [
    "write_alchemy_encyclopedia(\"compounds.json\", \"minerals.json\", \"magical_properties.json\", \"conditions.json\", 'reactions.json', \"alchemy_encyclopedia.txt\")\n"
   ]
  },
  {
   "cell_type": "code",
   "execution_count": 18,
   "id": "6a9ebefb",
   "metadata": {},
   "outputs": [
    {
     "name": "stdout",
     "output_type": "stream",
     "text": [
      "Collecting pydot\n",
      "  Downloading pydot-1.4.2-py2.py3-none-any.whl (21 kB)\n",
      "Collecting pydotplus\n",
      "  Downloading pydotplus-2.0.2.tar.gz (278 kB)\n",
      "\u001b[K     |████████████████████████████████| 278 kB 1.0 MB/s eta 0:00:01\n",
      "\u001b[?25hRequirement already satisfied: pyparsing>=2.1.4 in /home/user201/anaconda3/lib/python3.9/site-packages (from pydot) (3.0.4)\n",
      "Building wheels for collected packages: pydotplus\n",
      "  Building wheel for pydotplus (setup.py) ... \u001b[?25ldone\n",
      "\u001b[?25h  Created wheel for pydotplus: filename=pydotplus-2.0.2-py3-none-any.whl size=24575 sha256=62e0e1fe98c9eab995289d041d63466b29adb68e987cde1aea865fa912ce3e69\n",
      "  Stored in directory: /home/user201/.cache/pip/wheels/89/e5/de/6966007cf223872eedfbebbe0e074534e72e9128c8fd4b55eb\n",
      "Successfully built pydotplus\n",
      "Installing collected packages: pydotplus, pydot\n",
      "Successfully installed pydot-1.4.2 pydotplus-2.0.2\n"
     ]
    }
   ],
   "source": [
    "!pip install pydot pydotplus"
   ]
  },
  {
   "cell_type": "code",
   "execution_count": 53,
   "id": "ec3f3301",
   "metadata": {},
   "outputs": [
    {
     "data": {
      "image/png": "[encoded data removed]",
      "text/plain": [
       "<Figure size 432x288 with 1 Axes>"
      ]
     },
     "metadata": {},
     "output_type": "display_data"
    }
   ],
   "source": [
    "import numpy as np\n",
    "import networkx as nx\n",
    "import matplotlib.pyplot as plt\n",
    "from networkx.drawing.nx_agraph import graphviz_layout\n",
    "import random\n",
    "\n",
    "def generate_random_tree(n):\n",
    "    nodes = list(range(n))\n",
    "    random.shuffle(nodes)\n",
    "    tree = nx.DiGraph()\n",
    "    tree.add_nodes_from(nodes)\n",
    "    levels = [[nodes.pop() for _ in range(min(len(nodes), random.randint(1, 4)))] for _ in range(n)]\n",
    "    for i in range(1, len(levels)):\n",
    "        for node in levels[i]:\n",
    "            tree.add_edge(random.choice(levels[i-1]), node)\n",
    "    return tree\n",
    "\n",
    "def draw_graph(graph):\n",
    "    pos = nx.drawing.nx_pydot.graphviz_layout(graph, prog='dot')\n",
    "    nx.draw(graph, pos, with_labels=True, arrows=False)\n",
    "    plt.show()\n",
    "\n",
    "\n",
    "n = 20  # specify the number of nodes you want\n",
    "tree = generate_random_tree(n)\n",
    "draw_graph(tree)\n"
   ]
  },
  {
   "cell_type": "code",
   "execution_count": 25,
   "id": "6f0f64ed",
   "metadata": {},
   "outputs": [
    {
     "name": "stdout",
     "output_type": "stream",
     "text": [
      "Object `nx.draw_network` not found.\n"
     ]
    }
   ],
   "source": [
    "nx.draw_network??"
   ]
  },
  {
   "cell_type": "code",
   "execution_count": 37,
   "id": "f080f096",
   "metadata": {},
   "outputs": [
    {
     "data": {
      "image/png": "[encoded data removed]",
      "text/plain": [
       "<Figure size 432x288 with 1 Axes>"
      ]
     },
     "metadata": {},
     "output_type": "display_data"
    },
    {
     "name": "stdout",
     "output_type": "stream",
     "text": [
      "Distances from the root (8): [ 4. inf inf inf  3.  1.  2.  2.  0. inf]\n"
     ]
    }
   ],
   "source": [
    "import numpy as np\n",
    "import networkx as nx\n",
    "import matplotlib.pyplot as plt\n",
    "from networkx.drawing.nx_agraph import graphviz_layout\n",
    "import random\n",
    "\n",
    "def generate_random_tree(n):\n",
    "    nodes = list(range(n))\n",
    "    random.shuffle(nodes)\n",
    "    root = nodes.pop()\n",
    "    tree = nx.DiGraph()\n",
    "    tree.add_node(root)\n",
    "    levels = [[root] + [nodes.pop() for _ in range(min(len(nodes), random.randint(1, 4)))] for _ in range(n)]\n",
    "    for i in range(1, len(levels)):\n",
    "        for node in levels[i]:\n",
    "            tree.add_edge(random.choice(levels[i-1]), node)\n",
    "    return tree, root\n",
    "\n",
    "def draw_graph(graph):\n",
    "    pos = nx.drawing.nx_pydot.graphviz_layout(graph, prog='dot')\n",
    "    nx.draw(graph, pos, with_labels=True, arrows=False)\n",
    "    plt.show()\n",
    "\n",
    "def compute_distances(tree, root):\n",
    "    distances = np.full(len(tree.nodes), np.inf)\n",
    "    distances[root] = 0\n",
    "    queue = [(root, 0)]\n",
    "    while queue:\n",
    "        node, dist = queue.pop(0)\n",
    "        for neighbor in tree.neighbors(node):\n",
    "            if distances[neighbor] == np.inf:\n",
    "                distances[neighbor] = dist + 1\n",
    "                queue.append((neighbor, dist + 1))\n",
    "    return distances\n",
    "\n",
    "n = 10  # specify the number of nodes you want\n",
    "tree, root = generate_random_tree(n)\n",
    "draw_graph(tree)\n",
    "distances = compute_distances(tree, root)\n",
    "print(f\"Distances from the root ({root}): {distances}\")\n"
   ]
  },
  {
   "cell_type": "code",
   "execution_count": 4,
   "id": "5be0b52f",
   "metadata": {},
   "outputs": [],
   "source": [
    "import networkx as nx"
   ]
  }
 ],
 "metadata": {
  "kernelspec": {
   "display_name": "Python 3 (ipykernel)",
   "language": "python",
   "name": "python3"
  },
  "language_info": {
   "codemirror_mode": {
    "name": "ipython",
    "version": 3
   },
   "file_extension": ".py",
   "mimetype": "text/x-python",
   "name": "python",
   "nbconvert_exporter": "python",
   "pygments_lexer": "ipython3",
   "version": "3.9.7"
  }
 },
 "nbformat": 4,
 "nbformat_minor": 5
}
